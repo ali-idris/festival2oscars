{
 "cells": [
  {
   "cell_type": "markdown",
   "id": "ff45ad3f",
   "metadata": {},
   "source": [
    "# Airline Customer Satisfaction Capstone\n",
    "## EDA\n",
    "## Cleaning The Dataset\n",
    "\n",
    "#### What problems do an airline face?\n",
    "\n",
    "1: There are 5000 airlines currently operating. This means relative to other industries there has been little consolidation so competition for passangers is fierce.\n",
    "2: Flyers have significant choice on which airline to fly with.\n",
    "3: COVID restrictions and labour shortages have made operating airlines even more challenging.\n",
    "\n",
    "#### Why do airlines need to know about customer satisfaction?\n",
    "\n",
    "1: There is limited capital to invest.\n",
    "2: Airlines want to know what to invest in with regards to retaining existing customers whilst attracting new ones.\n",
    "3: Airlines want to know which customers to focus on.\n",
    "\n",
    "\n",
    "#### What does this project aim to do?\n",
    "\n",
    "Whether it's deciding on what refreshments to offer or how much to invest in the online booking process, this project mimicks the type of analysis a data scientist would conduct to answer these types of questions.\n",
    "\n",
    "#### Where is the data from?\n",
    "\n",
    "This data is sourced from John.D on Kaggle: https://www.kaggle.com/datasets/johndddddd/customer-satisfaction.\n",
    "\n",
    "The data is reportadley from an airline survery, though the exact source is not shared. \n",
    "\n",
    "This means the data suffers the general disadvantages of survery data:\n",
    "\n",
    "1: Valuable data is missing from individuals who did not fill in the survery which could contradict our findings.\n",
    "\n",
    "2: The data provided is what individuals believe their satisfaction to be is, but this may not represent their true satisfaction."
   ]
  },
  {
   "cell_type": "code",
   "execution_count": 1,
   "id": "fca4fd3f",
   "metadata": {},
   "outputs": [],
   "source": [
    "# Below I am importing the relavent libraries and packages\n",
    "import numpy as np\n",
    "import pandas as pd\n",
    "import matplotlib.pyplot as plt\n",
    "%matplotlib inline\n",
    "\n",
    "import random\n",
    "np.random.seed(123)\n",
    "random.seed(123)\n",
    "\n",
    "from sklearn.model_selection import train_test_split\n",
    "\n",
    "# Filter warnings\n",
    "import warnings\n",
    "warnings.filterwarnings('ignore')\n",
    "\n",
    "import os\n",
    "from sklearn.preprocessing import MinMaxScaler\n",
    "from sklearn.preprocessing import StandardScaler\n",
    "from sklearn.linear_model import LogisticRegression\n",
    "from sklearn.neighbors import KNeighborsClassifier\n",
    "from sklearn.tree import DecisionTreeClassifier\n",
    "from sklearn.compose import ColumnTransformer"
   ]
  },
  {
   "cell_type": "code",
   "execution_count": 2,
   "id": "fa05b4d2",
   "metadata": {},
   "outputs": [
    {
     "ename": "FileNotFoundError",
     "evalue": "[Errno 2] No such file or directory: 'satisfaction_2015.xlsx'",
     "output_type": "error",
     "traceback": [
      "\u001b[0;31m---------------------------------------------------------------------------\u001b[0m",
      "\u001b[0;31mFileNotFoundError\u001b[0m                         Traceback (most recent call last)",
      "Input \u001b[0;32mIn [2]\u001b[0m, in \u001b[0;36m<cell line: 3>\u001b[0;34m()\u001b[0m\n\u001b[1;32m      1\u001b[0m \u001b[38;5;66;03m# Below I am setting df to our data\u001b[39;00m\n\u001b[1;32m      2\u001b[0m os\u001b[38;5;241m.\u001b[39mgetcwd()\n\u001b[0;32m----> 3\u001b[0m df \u001b[38;5;241m=\u001b[39m \u001b[43mpd\u001b[49m\u001b[38;5;241;43m.\u001b[39;49m\u001b[43mread_excel\u001b[49m\u001b[43m(\u001b[49m\u001b[38;5;124;43m\"\u001b[39;49m\u001b[38;5;124;43msatisfaction_2015.xlsx\u001b[39;49m\u001b[38;5;124;43m\"\u001b[39;49m\u001b[43m)\u001b[49m\n",
      "File \u001b[0;32m~/opt/anaconda3/lib/python3.9/site-packages/pandas/util/_decorators.py:311\u001b[0m, in \u001b[0;36mdeprecate_nonkeyword_arguments.<locals>.decorate.<locals>.wrapper\u001b[0;34m(*args, **kwargs)\u001b[0m\n\u001b[1;32m    305\u001b[0m \u001b[38;5;28;01mif\u001b[39;00m \u001b[38;5;28mlen\u001b[39m(args) \u001b[38;5;241m>\u001b[39m num_allow_args:\n\u001b[1;32m    306\u001b[0m     warnings\u001b[38;5;241m.\u001b[39mwarn(\n\u001b[1;32m    307\u001b[0m         msg\u001b[38;5;241m.\u001b[39mformat(arguments\u001b[38;5;241m=\u001b[39marguments),\n\u001b[1;32m    308\u001b[0m         \u001b[38;5;167;01mFutureWarning\u001b[39;00m,\n\u001b[1;32m    309\u001b[0m         stacklevel\u001b[38;5;241m=\u001b[39mstacklevel,\n\u001b[1;32m    310\u001b[0m     )\n\u001b[0;32m--> 311\u001b[0m \u001b[38;5;28;01mreturn\u001b[39;00m \u001b[43mfunc\u001b[49m\u001b[43m(\u001b[49m\u001b[38;5;241;43m*\u001b[39;49m\u001b[43margs\u001b[49m\u001b[43m,\u001b[49m\u001b[43m \u001b[49m\u001b[38;5;241;43m*\u001b[39;49m\u001b[38;5;241;43m*\u001b[39;49m\u001b[43mkwargs\u001b[49m\u001b[43m)\u001b[49m\n",
      "File \u001b[0;32m~/opt/anaconda3/lib/python3.9/site-packages/pandas/io/excel/_base.py:457\u001b[0m, in \u001b[0;36mread_excel\u001b[0;34m(io, sheet_name, header, names, index_col, usecols, squeeze, dtype, engine, converters, true_values, false_values, skiprows, nrows, na_values, keep_default_na, na_filter, verbose, parse_dates, date_parser, thousands, decimal, comment, skipfooter, convert_float, mangle_dupe_cols, storage_options)\u001b[0m\n\u001b[1;32m    455\u001b[0m \u001b[38;5;28;01mif\u001b[39;00m \u001b[38;5;129;01mnot\u001b[39;00m \u001b[38;5;28misinstance\u001b[39m(io, ExcelFile):\n\u001b[1;32m    456\u001b[0m     should_close \u001b[38;5;241m=\u001b[39m \u001b[38;5;28;01mTrue\u001b[39;00m\n\u001b[0;32m--> 457\u001b[0m     io \u001b[38;5;241m=\u001b[39m \u001b[43mExcelFile\u001b[49m\u001b[43m(\u001b[49m\u001b[43mio\u001b[49m\u001b[43m,\u001b[49m\u001b[43m \u001b[49m\u001b[43mstorage_options\u001b[49m\u001b[38;5;241;43m=\u001b[39;49m\u001b[43mstorage_options\u001b[49m\u001b[43m,\u001b[49m\u001b[43m \u001b[49m\u001b[43mengine\u001b[49m\u001b[38;5;241;43m=\u001b[39;49m\u001b[43mengine\u001b[49m\u001b[43m)\u001b[49m\n\u001b[1;32m    458\u001b[0m \u001b[38;5;28;01melif\u001b[39;00m engine \u001b[38;5;129;01mand\u001b[39;00m engine \u001b[38;5;241m!=\u001b[39m io\u001b[38;5;241m.\u001b[39mengine:\n\u001b[1;32m    459\u001b[0m     \u001b[38;5;28;01mraise\u001b[39;00m \u001b[38;5;167;01mValueError\u001b[39;00m(\n\u001b[1;32m    460\u001b[0m         \u001b[38;5;124m\"\u001b[39m\u001b[38;5;124mEngine should not be specified when passing \u001b[39m\u001b[38;5;124m\"\u001b[39m\n\u001b[1;32m    461\u001b[0m         \u001b[38;5;124m\"\u001b[39m\u001b[38;5;124man ExcelFile - ExcelFile already has the engine set\u001b[39m\u001b[38;5;124m\"\u001b[39m\n\u001b[1;32m    462\u001b[0m     )\n",
      "File \u001b[0;32m~/opt/anaconda3/lib/python3.9/site-packages/pandas/io/excel/_base.py:1376\u001b[0m, in \u001b[0;36mExcelFile.__init__\u001b[0;34m(self, path_or_buffer, engine, storage_options)\u001b[0m\n\u001b[1;32m   1374\u001b[0m     ext \u001b[38;5;241m=\u001b[39m \u001b[38;5;124m\"\u001b[39m\u001b[38;5;124mxls\u001b[39m\u001b[38;5;124m\"\u001b[39m\n\u001b[1;32m   1375\u001b[0m \u001b[38;5;28;01melse\u001b[39;00m:\n\u001b[0;32m-> 1376\u001b[0m     ext \u001b[38;5;241m=\u001b[39m \u001b[43minspect_excel_format\u001b[49m\u001b[43m(\u001b[49m\n\u001b[1;32m   1377\u001b[0m \u001b[43m        \u001b[49m\u001b[43mcontent_or_path\u001b[49m\u001b[38;5;241;43m=\u001b[39;49m\u001b[43mpath_or_buffer\u001b[49m\u001b[43m,\u001b[49m\u001b[43m \u001b[49m\u001b[43mstorage_options\u001b[49m\u001b[38;5;241;43m=\u001b[39;49m\u001b[43mstorage_options\u001b[49m\n\u001b[1;32m   1378\u001b[0m \u001b[43m    \u001b[49m\u001b[43m)\u001b[49m\n\u001b[1;32m   1379\u001b[0m     \u001b[38;5;28;01mif\u001b[39;00m ext \u001b[38;5;129;01mis\u001b[39;00m \u001b[38;5;28;01mNone\u001b[39;00m:\n\u001b[1;32m   1380\u001b[0m         \u001b[38;5;28;01mraise\u001b[39;00m \u001b[38;5;167;01mValueError\u001b[39;00m(\n\u001b[1;32m   1381\u001b[0m             \u001b[38;5;124m\"\u001b[39m\u001b[38;5;124mExcel file format cannot be determined, you must specify \u001b[39m\u001b[38;5;124m\"\u001b[39m\n\u001b[1;32m   1382\u001b[0m             \u001b[38;5;124m\"\u001b[39m\u001b[38;5;124man engine manually.\u001b[39m\u001b[38;5;124m\"\u001b[39m\n\u001b[1;32m   1383\u001b[0m         )\n",
      "File \u001b[0;32m~/opt/anaconda3/lib/python3.9/site-packages/pandas/io/excel/_base.py:1250\u001b[0m, in \u001b[0;36minspect_excel_format\u001b[0;34m(content_or_path, storage_options)\u001b[0m\n\u001b[1;32m   1247\u001b[0m \u001b[38;5;28;01mif\u001b[39;00m \u001b[38;5;28misinstance\u001b[39m(content_or_path, \u001b[38;5;28mbytes\u001b[39m):\n\u001b[1;32m   1248\u001b[0m     content_or_path \u001b[38;5;241m=\u001b[39m BytesIO(content_or_path)\n\u001b[0;32m-> 1250\u001b[0m \u001b[38;5;28;01mwith\u001b[39;00m \u001b[43mget_handle\u001b[49m\u001b[43m(\u001b[49m\n\u001b[1;32m   1251\u001b[0m \u001b[43m    \u001b[49m\u001b[43mcontent_or_path\u001b[49m\u001b[43m,\u001b[49m\u001b[43m \u001b[49m\u001b[38;5;124;43m\"\u001b[39;49m\u001b[38;5;124;43mrb\u001b[39;49m\u001b[38;5;124;43m\"\u001b[39;49m\u001b[43m,\u001b[49m\u001b[43m \u001b[49m\u001b[43mstorage_options\u001b[49m\u001b[38;5;241;43m=\u001b[39;49m\u001b[43mstorage_options\u001b[49m\u001b[43m,\u001b[49m\u001b[43m \u001b[49m\u001b[43mis_text\u001b[49m\u001b[38;5;241;43m=\u001b[39;49m\u001b[38;5;28;43;01mFalse\u001b[39;49;00m\n\u001b[1;32m   1252\u001b[0m \u001b[43m\u001b[49m\u001b[43m)\u001b[49m \u001b[38;5;28;01mas\u001b[39;00m handle:\n\u001b[1;32m   1253\u001b[0m     stream \u001b[38;5;241m=\u001b[39m handle\u001b[38;5;241m.\u001b[39mhandle\n\u001b[1;32m   1254\u001b[0m     stream\u001b[38;5;241m.\u001b[39mseek(\u001b[38;5;241m0\u001b[39m)\n",
      "File \u001b[0;32m~/opt/anaconda3/lib/python3.9/site-packages/pandas/io/common.py:798\u001b[0m, in \u001b[0;36mget_handle\u001b[0;34m(path_or_buf, mode, encoding, compression, memory_map, is_text, errors, storage_options)\u001b[0m\n\u001b[1;32m    789\u001b[0m         handle \u001b[38;5;241m=\u001b[39m \u001b[38;5;28mopen\u001b[39m(\n\u001b[1;32m    790\u001b[0m             handle,\n\u001b[1;32m    791\u001b[0m             ioargs\u001b[38;5;241m.\u001b[39mmode,\n\u001b[0;32m   (...)\u001b[0m\n\u001b[1;32m    794\u001b[0m             newline\u001b[38;5;241m=\u001b[39m\u001b[38;5;124m\"\u001b[39m\u001b[38;5;124m\"\u001b[39m,\n\u001b[1;32m    795\u001b[0m         )\n\u001b[1;32m    796\u001b[0m     \u001b[38;5;28;01melse\u001b[39;00m:\n\u001b[1;32m    797\u001b[0m         \u001b[38;5;66;03m# Binary mode\u001b[39;00m\n\u001b[0;32m--> 798\u001b[0m         handle \u001b[38;5;241m=\u001b[39m \u001b[38;5;28;43mopen\u001b[39;49m\u001b[43m(\u001b[49m\u001b[43mhandle\u001b[49m\u001b[43m,\u001b[49m\u001b[43m \u001b[49m\u001b[43mioargs\u001b[49m\u001b[38;5;241;43m.\u001b[39;49m\u001b[43mmode\u001b[49m\u001b[43m)\u001b[49m\n\u001b[1;32m    799\u001b[0m     handles\u001b[38;5;241m.\u001b[39mappend(handle)\n\u001b[1;32m    801\u001b[0m \u001b[38;5;66;03m# Convert BytesIO or file objects passed with an encoding\u001b[39;00m\n",
      "\u001b[0;31mFileNotFoundError\u001b[0m: [Errno 2] No such file or directory: 'satisfaction_2015.xlsx'"
     ]
    }
   ],
   "source": [
    "# Below I am setting df to our data\n",
    "os.getcwd()\n",
    "df = pd.read_excel(\"satisfaction_2015.xlsx\")"
   ]
  },
  {
   "cell_type": "code",
   "execution_count": null,
   "id": "fbbaf7cf",
   "metadata": {
    "scrolled": false
   },
   "outputs": [],
   "source": [
    "# Below I am looking at the first 2 rows of the dataframe\n",
    "df.head(2)"
   ]
  },
  {
   "cell_type": "code",
   "execution_count": null,
   "id": "23595381",
   "metadata": {
    "scrolled": true
   },
   "outputs": [],
   "source": [
    "# Below I am looking at the shape of the dataframe:\n",
    "df.shape"
   ]
  },
  {
   "cell_type": "markdown",
   "id": "2325f916",
   "metadata": {},
   "source": [
    "### Removing Missing/Null Values"
   ]
  },
  {
   "cell_type": "code",
   "execution_count": null,
   "id": "4bf5bcf4",
   "metadata": {},
   "outputs": [],
   "source": [
    "# Below i am identifying if any columns have any null values\n",
    "df_nulls = df.isna().any()\n",
    "df_nulls.value_counts()"
   ]
  },
  {
   "cell_type": "code",
   "execution_count": null,
   "id": "6673a766",
   "metadata": {},
   "outputs": [],
   "source": [
    "# Below I am identifying the % of null values in each column\n",
    "df.isnull().sum()/len(df)"
   ]
  },
  {
   "cell_type": "markdown",
   "id": "a42704c4",
   "metadata": {},
   "source": [
    "We will see in a leter notebook that the 'arrival delay in minutes' column suffers from multocolinearity. Therefore it will be dropped in the future, but for now it will be left as is in our dataset."
   ]
  },
  {
   "cell_type": "code",
   "execution_count": null,
   "id": "43065e01",
   "metadata": {},
   "outputs": [],
   "source": [
    "# Below I am identifying the rows which have null values\n",
    "df[df['Arrival Delay in Minutes'].isnull()]"
   ]
  },
  {
   "cell_type": "markdown",
   "id": "b244c5ff",
   "metadata": {},
   "source": [
    "If the missing values where something we could fix (like lattitude, longitude etc.) then we could try to replace the missing values with correct ones. Here this is not the case so our best course of action is to delete these rows. Luckily they account for a small % of the overall dataset."
   ]
  },
  {
   "cell_type": "code",
   "execution_count": null,
   "id": "6cd892f4",
   "metadata": {},
   "outputs": [],
   "source": [
    "# Below I am dropping the null values in the 'Arrival Delay in Minutes' column\n",
    "df = df.dropna(how='any',axis=0,thresh=None, subset=None, inplace=False)"
   ]
  },
  {
   "cell_type": "code",
   "execution_count": null,
   "id": "f2c39033",
   "metadata": {
    "scrolled": true
   },
   "outputs": [],
   "source": [
    "# Below I am sanity checking that the null values have been removed\n",
    "df.isnull().sum()/len(df)"
   ]
  },
  {
   "cell_type": "markdown",
   "id": "f992107c",
   "metadata": {},
   "source": [
    "Below I am checking for any rows with null values"
   ]
  },
  {
   "cell_type": "code",
   "execution_count": null,
   "id": "79c0e0ea",
   "metadata": {},
   "outputs": [],
   "source": [
    "def nans(df): return df[df.isnull().any(axis=1)]"
   ]
  },
  {
   "cell_type": "code",
   "execution_count": null,
   "id": "d09825ee",
   "metadata": {},
   "outputs": [],
   "source": [
    "print(f\"There are {row_null.shape[0]} rows with missing values.\")"
   ]
  },
  {
   "cell_type": "markdown",
   "id": "9773763d",
   "metadata": {},
   "source": [
    "### Removing Duplicated Values"
   ]
  },
  {
   "cell_type": "code",
   "execution_count": null,
   "id": "c0bfc02c",
   "metadata": {},
   "outputs": [],
   "source": [
    "# Below I am checking for any duplicated rows\n",
    "df.duplicated().sum()"
   ]
  },
  {
   "cell_type": "markdown",
   "id": "1dfffd54",
   "metadata": {},
   "source": [
    "### Analysing Column Data Types"
   ]
  },
  {
   "cell_type": "markdown",
   "id": "5e7f3589",
   "metadata": {},
   "source": [
    "We need to understand what each column is showing. We can look at the datatype of each column:"
   ]
  },
  {
   "cell_type": "code",
   "execution_count": null,
   "id": "2beb9f7b",
   "metadata": {},
   "outputs": [],
   "source": [
    "# Below I am looking at the using the built in 'info()' function to identify the datatype of each column\n",
    "df.info()"
   ]
  },
  {
   "cell_type": "markdown",
   "id": "41525da2",
   "metadata": {},
   "source": [
    "The id of a customer has no relavence to if a customer is satisfied or not, since the id is assigned at random. Therefore we can remove it from our dataframe."
   ]
  },
  {
   "cell_type": "code",
   "execution_count": null,
   "id": "351ed2ad",
   "metadata": {
    "scrolled": true
   },
   "outputs": [],
   "source": [
    "# Below I am checking the sum of 'Arrival Delay in Minutes'\n",
    "df['Arrival Delay in Minutes'].sum()"
   ]
  },
  {
   "cell_type": "markdown",
   "id": "8d59fae3",
   "metadata": {},
   "source": [
    "We can see that the sum of 'Arrival Delay in Minutes' is a whole number, which means it can be stored as an int data type."
   ]
  },
  {
   "cell_type": "code",
   "execution_count": null,
   "id": "adfdbce5",
   "metadata": {},
   "outputs": [],
   "source": [
    "# Below I am changing the the 'Arrival Delay in Minutes' column to the int datatype\n",
    "df['Arrival Delay in Minutes'] = df['Arrival Delay in Minutes'].astype(int)"
   ]
  },
  {
   "cell_type": "markdown",
   "id": "8d75f065",
   "metadata": {},
   "source": [
    "### Renaming and Dropping Columns"
   ]
  },
  {
   "cell_type": "markdown",
   "id": "207e2bb4",
   "metadata": {},
   "source": [
    "First I need to get a better understanding of what each column represents."
   ]
  },
  {
   "cell_type": "code",
   "execution_count": null,
   "id": "db1a1432",
   "metadata": {},
   "outputs": [],
   "source": [
    "print(\"-------------------------------------------------------------------\")\n",
    "print(f\"The unique values for 'satisfaction_v2' are:\")\n",
    "print(\"\\n\")\n",
    "print(df['satisfaction_v2'].value_counts())\n",
    "print(\"-------------------------------------------------------------------\")\n",
    "print(f\"The unique values for 'Gender' are:\")\n",
    "print(\"\\n\")\n",
    "print(df['Gender'].value_counts())\n",
    "print(\"-------------------------------------------------------------------\")\n",
    "print(f\"The unique values for 'Customer Type 'are:\")\n",
    "print(\"\\n\")\n",
    "print(df['Customer Type'].value_counts())\n",
    "print(\"-------------------------------------------------------------------\")\n",
    "print(f\"The unique values for 'Age 'are:\")\n",
    "print(\"\\n\")\n",
    "print(df['Age'].value_counts())\n",
    "print(\"-------------------------------------------------------------------\")\n",
    "print(f\"The unique values for 'Type of Travel'are:\")\n",
    "print(\"\\n\")\n",
    "print(df['Type of Travel'].value_counts())\n",
    "print(\"-------------------------------------------------------------------\")\n",
    "print(f\"The unique values for 'Class'are:\")\n",
    "print(\"\\n\")\n",
    "print(df['Class'].value_counts())\n",
    "print(\"-------------------------------------------------------------------\")\n",
    "print(f\"The unique values for 'Flight Distance'are:\")\n",
    "print(\"\\n\")\n",
    "print(df['Flight Distance'].value_counts())\n",
    "print(\"-------------------------------------------------------------------\")\n",
    "print(f\"The unique values for 'Inflight wifi' service'are:\")\n",
    "print(\"\\n\")\n",
    "print(df['Inflight wifi service'].value_counts())\n",
    "print(\"-------------------------------------------------------------------\")\n",
    "print(f\"The unique values for 'Departure/Arrival' time convenient'are:\")\n",
    "print(\"\\n\")\n",
    "print(df['Departure/Arrival time convenient'].value_counts())\n",
    "print(\"-------------------------------------------------------------------\")\n",
    "print(f\"The unique values for 'Ease of Online booking' time convenient'are:\")\n",
    "print(\"\\n\")\n",
    "print(df['Ease of Online booking'].value_counts())\n",
    "print(\"-------------------------------------------------------------------\")\n",
    "print(f\"The unique values for 'Gate location' time convenient'are:\")\n",
    "print(\"\\n\")\n",
    "print(df['Gate location'].value_counts())\n",
    "print(\"-------------------------------------------------------------------\")\n",
    "print(f\"The unique values for 'Food and drink' time convenient'are:\")\n",
    "print(\"\\n\")\n",
    "print(df['Food and drink'].value_counts())\n",
    "print(\"-------------------------------------------------------------------\")\n",
    "print(f\"The unique values for 'Online boarding' time convenient'are:\")\n",
    "print(\"\\n\")\n",
    "print(df['Online boarding'].value_counts())\n",
    "print(\"-------------------------------------------------------------------\")\n",
    "print(f\"The unique values for 'Seat comfort' time convenient'are:\")\n",
    "print(\"\\n\")\n",
    "print(df['Seat comfort'].value_counts())\n",
    "print(\"-------------------------------------------------------------------\")\n",
    "print(f\"The unique values for 'Inflight entertainment' time convenient'are:\")\n",
    "print(\"\\n\")\n",
    "print(df['Inflight entertainment'].value_counts())\n",
    "print(\"-------------------------------------------------------------------\")\n",
    "print(f\"The unique values for 'On-board service' time convenient'are:\")\n",
    "print(\"\\n\")\n",
    "print(df['On-board service'].value_counts())\n",
    "print(\"-------------------------------------------------------------------\")\n",
    "print(f\"The unique values for 'Leg room service' time convenient'are:\")\n",
    "print(\"\\n\")\n",
    "print(df['Leg room service'].value_counts())\n",
    "print(\"-------------------------------------------------------------------\")\n",
    "print(f\"The unique values for 'Baggage handling' time convenient'are:\")\n",
    "print(\"\\n\")\n",
    "print(df['Baggage handling'].value_counts())\n",
    "print(\"-------------------------------------------------------------------\")\n",
    "print(f\"The unique values for 'Checkin service' time convenient'are:\")\n",
    "print(\"\\n\")\n",
    "print(df['Checkin service'].value_counts())\n",
    "print(\"-------------------------------------------------------------------\")\n",
    "print(f\"The unique values for 'Inflight service' time convenient'are:\")\n",
    "print(\"\\n\")\n",
    "print(df['Inflight service'].value_counts())\n",
    "print(\"-------------------------------------------------------------------\")\n",
    "print(f\"The unique values for 'Cleanliness' time convenient'are:\")\n",
    "print(\"\\n\")\n",
    "print(df['Cleanliness'].value_counts())\n",
    "print(\"-------------------------------------------------------------------\")\n",
    "print(f\"The unique values for 'Departure Delay in Minutes' time convenient'are:\")\n",
    "print(\"\\n\")\n",
    "print(df['Departure Delay in Minutes'].value_counts())\n",
    "print(\"-------------------------------------------------------------------\")\n",
    "print(f\"The unique values for 'Arrival Delay in Minutes' time convenient'are:\")\n",
    "print(\"\\n\")\n",
    "print(df['Arrival Delay in Minutes'].value_counts())\n",
    "print(\"-------------------------------------------------------------------\")"
   ]
  },
  {
   "cell_type": "markdown",
   "id": "21ae9c6b",
   "metadata": {},
   "source": [
    "#### Data Description v1\n",
    "\n",
    "Categorical Columns:\n",
    "- `satisfaction_v2` --> This is our target feature. It is whether or not a customer was satisfied\n",
    "- `Gender` --> This shows whether or not the customer was male or female\n",
    "- `Type of Travel` --> This shows whether or not the customer travelled for business or personal travel\n",
    "- `Class` --> This is the type of class the customer flew in (Eco, Eco Plus, Business)\n",
    "- `Gate location` --> This is the satisfaction rating of gate location\n",
    "\n",
    "Numerical Column With No Range Limit:\n",
    "- `Age` --> This is the age of the customer\n",
    "- `Flight Distance` --> This is the flight distance in miles\n",
    "- `Gate location` --> This is the satisfaction rating of gate location\n",
    "- `Departure Delay in Minutes` --> This is the numnber of minutes the flight was delayed at departure\n",
    "- `Arrival Delay in Minutes` --> This is the numnber of minutes the flight was delayed at arrival to destination\n",
    "\n",
    "Numerical Column Rating 0 - 5:\n",
    "- `Inflight wifi` --> This is the satisfaction rating of the inflight wifi\n",
    "- `Departure/Arrival time` --> This is the satisfaction rating of the inflight wifi\n",
    "- `Ease of Online booking` --> This is the satisfaction rating of the online booking process\n",
    "- `Food and drink` --> This is the satisfaction rating of the food and drink offered in flight\n",
    "- `Online boarding` --> This is the satisfaction rating of the online boarding\n",
    "- `Seat comfort` --> This is the satisfaction rating of the inflight seats\n",
    "- `Inflight entertainment` --> This is the satisfaction rating of the inflight entertainment\n",
    "- `On-board service` --> This is the satisfaction rating of onboard service\n",
    "- `Baggage handling` --> This is the satisfaction rating of baggage handling\n",
    "- `Checkin service` --> This is the satisfaction rating of the checkin service\n",
    "- `Leg room service` --> This is the satisfaction rating of inflight leg room\n",
    "- `Inflight service` --> This is the satisfaction rating of the inflight service\n",
    "- `Cleanliness` --> This is the satisfaction rating of how clean the aeroplane"
   ]
  },
  {
   "cell_type": "markdown",
   "id": "0d33ad90",
   "metadata": {},
   "source": [
    "These column names need to be optimised so they best describe what they are showing."
   ]
  },
  {
   "cell_type": "code",
   "execution_count": null,
   "id": "51c7717e",
   "metadata": {},
   "outputs": [],
   "source": [
    "df.rename(columns = {'satisfaction_v2' : 'satisfaction_target'}, inplace=True)\n",
    "df.rename(columns = {'Gender': 'customer_gender'}, inplace=True)\n",
    "df.rename(columns = { 'Customer Type' : 'customer_loyalty_type'}, inplace=True)\n",
    "df.rename(columns = {'Age': 'customer_age'}, inplace=True)\n",
    "df.rename(columns = {'Type of Travel' : 'customer_travel_type'}, inplace=True)\n",
    "df.rename(columns = {'Class' : 'customer_class_type'}, inplace=True)\n",
    "df.rename(columns = {'Flight Distance' : 'flight_distance'}, inplace=True)\n",
    "df.rename(columns = {'Inflight wifi service' : 'flight_wifi_satisfaction_rating'}, inplace=True)\n",
    "df.rename(columns = {'Departure/Arrival time convenient' : 'departure/arrival_time_satisfaction_rating'}, inplace=True)\n",
    "df.rename(columns = {'Ease of Online booking' : 'online_booking_satisfaction_rating'}, inplace=True)\n",
    "df.rename(columns = {'Gate location' : 'gate_location_satisfaction_rating'}, inplace=True)\n",
    "df.rename(columns = {'Food and drink' : 'food/drink_satisfaction_rating'}, inplace=True)\n",
    "df.rename(columns = {'Online boarding' : 'online_boarding_satisfaction_rating'}, inplace=True)\n",
    "df.rename(columns = {'Seat comfort' : 'seat_comfort_satisfaction_rating'}, inplace=True)\n",
    "df.rename(columns = {'Inflight entertainment' : 'inflight_entertainment_satisfaction_rating'}, inplace=True)\n",
    "df.rename(columns = {'On-board service' : 'onboard_service_satisfaction_rating'}, inplace=True)\n",
    "df.rename(columns = {'Leg room service' : 'leg_room_n_satisfaction_rating'}, inplace=True)\n",
    "df.rename(columns = {'Baggage handling' : 'baggage_handling_satisfaction_rating'}, inplace=True)\n",
    "df.rename(columns = {'Checkin service' : 'checkin_service_satisfaction_rating'}, inplace=True)\n",
    "df.rename(columns = {'Inflight service' : 'inflight_service_satisfaction_rating'}, inplace=True)\n",
    "df.rename(columns = {'Cleanliness' : 'cleanliness_satisfaction_rating'}, inplace=True)\n",
    "df.rename(columns = {'Departure Delay in Minutes' : 'departure_delay_in_minutes'}, inplace=True)\n",
    "df.rename(columns = {'Arrival Delay in Minutes' : 'arrival_delay_in_minutes'}, inplace=True)"
   ]
  },
  {
   "cell_type": "code",
   "execution_count": null,
   "id": "6b7b6c48",
   "metadata": {
    "scrolled": true
   },
   "outputs": [],
   "source": [
    "# Below I am sanity checking that the column names have been changed correctly\n",
    "df.head(2)"
   ]
  },
  {
   "cell_type": "code",
   "execution_count": null,
   "id": "8edff0be",
   "metadata": {},
   "outputs": [],
   "source": [
    "df.to_csv('cleaned_airlines.csv')"
   ]
  }
 ],
 "metadata": {
  "kernelspec": {
   "display_name": "Python 3 (ipykernel)",
   "language": "python",
   "name": "python3"
  },
  "language_info": {
   "codemirror_mode": {
    "name": "ipython",
    "version": 3
   },
   "file_extension": ".py",
   "mimetype": "text/x-python",
   "name": "python",
   "nbconvert_exporter": "python",
   "pygments_lexer": "ipython3",
   "version": "3.9.12"
  }
 },
 "nbformat": 4,
 "nbformat_minor": 5
}
