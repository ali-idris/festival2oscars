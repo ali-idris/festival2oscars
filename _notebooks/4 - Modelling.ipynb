{
 "cells": [
  {
   "cell_type": "markdown",
   "id": "c3d2da5b",
   "metadata": {},
   "source": [
    "## Use pipeline to find optimal model"
   ]
  },
  {
   "cell_type": "code",
   "execution_count": 38,
   "id": "666fa175",
   "metadata": {},
   "outputs": [],
   "source": [
    "import numpy as np\n",
    "import pandas as pd\n",
    "import matplotlib.pyplot as plt\n",
    "%matplotlib inline\n",
    "\n",
    "# Filter warnings\n",
    "import warnings\n",
    "warnings.filterwarnings('ignore')\n",
    "\n",
    "from sklearn.model_selection import train_test_split\n",
    "from sklearn.preprocessing import StandardScaler\n",
    "from sklearn.decomposition import PCA\n",
    "from sklearn import svm\n",
    "from sklearn.pipeline import Pipeline\n",
    "from tempfile import mkdtemp\n",
    "from sklearn.model_selection import GridSearchCV\n",
    "from sklearn.linear_model import LogisticRegression\n",
    "from sklearn.metrics import (classification_report, confusion_matrix,\n",
    "                             plot_roc_curve, roc_auc_score)"
   ]
  },
  {
   "cell_type": "code",
   "execution_count": 30,
   "id": "286b55f1",
   "metadata": {},
   "outputs": [
    {
     "name": "stdout",
     "output_type": "stream",
     "text": [
      "The fitted search score is 0.8715737603942101\n",
      "The best parameters for the model are {'log__C': 1, 'reduce_dim__n_components': None}\n"
     ]
    }
   ],
   "source": [
    "df = pd.read_csv('../data/very_train_cleaned_airlines.csv')\n",
    "df = df.drop('Unnamed: 0', axis=1)\n",
    "df = df.drop('arrival_delay_in_minutes', axis=1)\n",
    "\n",
    "# Below I am setting our train dataset target y to 'rating'\n",
    "y = df['satisfaction_target_Satisfied']\n",
    "\n",
    "# Below I am setting our train dataset data to every column besides 'rating'\n",
    "X = df.drop('satisfaction_target_Satisfied', axis = 1)\n",
    "\n",
    "estimators = [('normalise', StandardScaler()),\n",
    "              ('reduce_dim', PCA()),\n",
    "              ('log', LogisticRegression())]\n",
    "\n",
    "cachedir = mkdtemp()\n",
    "pipe = Pipeline(estimators, memory = cachedir)\n",
    "\n",
    "params = {'log__C': [0.1, 1, 3, 5, 7, 10], \n",
    "          'reduce_dim__n_components': [None, 2, 5, 10]}\n",
    "\n",
    "grid_search = GridSearchCV(pipe, param_grid=params)\n",
    "\n",
    "X_train, X_test, y_train, y_test = train_test_split(\n",
    "X, y, test_size=0.3, stratify=y, random_state=0)\n",
    "\n",
    "fitted_search = grid_search.fit(X_train, y_train)\n",
    "\n",
    "print(f\"The fitted search score is {fitted_search.score(X_test, y_test)}\")\n",
    "print(f\"The best parameters for the model are {fitted_search.best_params_}\")"
   ]
  },
  {
   "cell_type": "markdown",
   "id": "87c997e9",
   "metadata": {},
   "source": [
    "## Run code seperately"
   ]
  },
  {
   "cell_type": "code",
   "execution_count": 35,
   "id": "9f8df78b",
   "metadata": {},
   "outputs": [
    {
     "name": "stdout",
     "output_type": "stream",
     "text": [
      "Scaled train shape is (90916, 22) and scaled test shape is (38964, 22)\n"
     ]
    }
   ],
   "source": [
    "# scale the data\n",
    "scaler = StandardScaler()\n",
    "\n",
    "# fit on train set\n",
    "X_train_scaled = scaler.fit_transform(X_train)\n",
    "\n",
    "# use it to transform test set\n",
    "X_test_scaled = scaler.transform(X_test)\n",
    "\n",
    "print(f\"Scaled train shape is {X_train_scaled.shape} and scaled test shape is {X_test_scaled.shape}\")"
   ]
  },
  {
   "cell_type": "code",
   "execution_count": 37,
   "id": "7d793d39",
   "metadata": {},
   "outputs": [
    {
     "name": "stdout",
     "output_type": "stream",
     "text": [
      "The train2 score is 0.8754344669805095 and the test score is 0.8715737603942101.\n"
     ]
    }
   ],
   "source": [
    "# Below I am instantiating the model\n",
    "LogReg = LogisticRegression(C=1,random_state=0)\n",
    "\n",
    "# Below I am fitting the logistic regression model to the training data\n",
    "LogReg.fit(X_train_scaled, y_train)\n",
    "\n",
    "print(f\"The train2 score is {LogReg.score(X_train_scaled, y_train)} and the test score is {LogReg.score(X_test_scaled, y_test)}.\")"
   ]
  },
  {
   "cell_type": "markdown",
   "id": "a900525d",
   "metadata": {},
   "source": [
    "There is a marginal amount of overfiting but both scores are similar."
   ]
  },
  {
   "cell_type": "markdown",
   "id": "0ac1e4f6",
   "metadata": {},
   "source": [
    "## Classification report & Confusion matrix"
   ]
  },
  {
   "cell_type": "code",
   "execution_count": null,
   "id": "bfdc85bd",
   "metadata": {},
   "outputs": [],
   "source": []
  },
  {
   "cell_type": "code",
   "execution_count": null,
   "id": "208a1ac0",
   "metadata": {},
   "outputs": [],
   "source": []
  }
 ],
 "metadata": {
  "kernelspec": {
   "display_name": "Python 3 (ipykernel)",
   "language": "python",
   "name": "python3"
  },
  "language_info": {
   "codemirror_mode": {
    "name": "ipython",
    "version": 3
   },
   "file_extension": ".py",
   "mimetype": "text/x-python",
   "name": "python",
   "nbconvert_exporter": "python",
   "pygments_lexer": "ipython3",
   "version": "3.9.12"
  }
 },
 "nbformat": 4,
 "nbformat_minor": 5
}
