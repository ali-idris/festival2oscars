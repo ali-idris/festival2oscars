{
 "cells": [
  {
   "cell_type": "code",
   "execution_count": 1,
   "id": "0556c2dd",
   "metadata": {},
   "outputs": [],
   "source": [
    "import numpy as np\n",
    "import pandas as pd\n",
    "import matplotlib.pyplot as plt\n",
    "%matplotlib inline\n",
    "\n",
    "# Filter warnings\n",
    "import warnings\n",
    "warnings.filterwarnings('ignore')\n",
    "\n",
    "from sklearn.model_selection import train_test_split\n",
    "from sklearn.preprocessing import StandardScaler\n",
    "from sklearn.decomposition import PCA\n",
    "from sklearn import svm\n",
    "from sklearn.pipeline import Pipeline"
   ]
  },
  {
   "cell_type": "code",
   "execution_count": 2,
   "id": "a9a3020e",
   "metadata": {
    "scrolled": true
   },
   "outputs": [
    {
     "data": {
      "text/html": [
       "<div>\n",
       "<style scoped>\n",
       "    .dataframe tbody tr th:only-of-type {\n",
       "        vertical-align: middle;\n",
       "    }\n",
       "\n",
       "    .dataframe tbody tr th {\n",
       "        vertical-align: top;\n",
       "    }\n",
       "\n",
       "    .dataframe thead th {\n",
       "        text-align: right;\n",
       "    }\n",
       "</style>\n",
       "<table border=\"1\" class=\"dataframe\">\n",
       "  <thead>\n",
       "    <tr style=\"text-align: right;\">\n",
       "      <th></th>\n",
       "      <th>Unnamed: 0</th>\n",
       "      <th>customer_age</th>\n",
       "      <th>flight_distance</th>\n",
       "      <th>flight_wifi_satisfaction_rating</th>\n",
       "      <th>departure/arrival_time_satisfaction_rating</th>\n",
       "      <th>online_booking_satisfaction_rating</th>\n",
       "      <th>gate_location_satisfaction_rating</th>\n",
       "      <th>food/drink_satisfaction_rating</th>\n",
       "      <th>online_boarding_satisfaction_rating</th>\n",
       "      <th>seat_comfort_satisfaction_rating</th>\n",
       "      <th>...</th>\n",
       "      <th>inflight_service_satisfaction_rating</th>\n",
       "      <th>cleanliness_satisfaction_rating</th>\n",
       "      <th>departure_delay_in_minutes</th>\n",
       "      <th>arrival_delay_in_minutes</th>\n",
       "      <th>satisfaction_target_Satisfied</th>\n",
       "      <th>customer_gender_Male</th>\n",
       "      <th>customer_loyalty_type_Loyal</th>\n",
       "      <th>customer_travel_type_Personal</th>\n",
       "      <th>customer_class_type_Economy</th>\n",
       "      <th>customer_class_type_Economy Plus</th>\n",
       "    </tr>\n",
       "  </thead>\n",
       "  <tbody>\n",
       "    <tr>\n",
       "      <th>0</th>\n",
       "      <td>0</td>\n",
       "      <td>56</td>\n",
       "      <td>369</td>\n",
       "      <td>0</td>\n",
       "      <td>2</td>\n",
       "      <td>0</td>\n",
       "      <td>4</td>\n",
       "      <td>3</td>\n",
       "      <td>0</td>\n",
       "      <td>3</td>\n",
       "      <td>...</td>\n",
       "      <td>4</td>\n",
       "      <td>3</td>\n",
       "      <td>0</td>\n",
       "      <td>0.0</td>\n",
       "      <td>1</td>\n",
       "      <td>1</td>\n",
       "      <td>0</td>\n",
       "      <td>1</td>\n",
       "      <td>1</td>\n",
       "      <td>0</td>\n",
       "    </tr>\n",
       "    <tr>\n",
       "      <th>1</th>\n",
       "      <td>1</td>\n",
       "      <td>49</td>\n",
       "      <td>2486</td>\n",
       "      <td>0</td>\n",
       "      <td>2</td>\n",
       "      <td>1</td>\n",
       "      <td>4</td>\n",
       "      <td>2</td>\n",
       "      <td>1</td>\n",
       "      <td>3</td>\n",
       "      <td>...</td>\n",
       "      <td>3</td>\n",
       "      <td>2</td>\n",
       "      <td>0</td>\n",
       "      <td>0.0</td>\n",
       "      <td>1</td>\n",
       "      <td>1</td>\n",
       "      <td>0</td>\n",
       "      <td>1</td>\n",
       "      <td>1</td>\n",
       "      <td>0</td>\n",
       "    </tr>\n",
       "  </tbody>\n",
       "</table>\n",
       "<p>2 rows × 25 columns</p>\n",
       "</div>"
      ],
      "text/plain": [
       "   Unnamed: 0  customer_age  flight_distance  flight_wifi_satisfaction_rating  \\\n",
       "0           0            56              369                                0   \n",
       "1           1            49             2486                                0   \n",
       "\n",
       "   departure/arrival_time_satisfaction_rating  \\\n",
       "0                                           2   \n",
       "1                                           2   \n",
       "\n",
       "   online_booking_satisfaction_rating  gate_location_satisfaction_rating  \\\n",
       "0                                   0                                  4   \n",
       "1                                   1                                  4   \n",
       "\n",
       "   food/drink_satisfaction_rating  online_boarding_satisfaction_rating  \\\n",
       "0                               3                                    0   \n",
       "1                               2                                    1   \n",
       "\n",
       "   seat_comfort_satisfaction_rating  ...  \\\n",
       "0                                 3  ...   \n",
       "1                                 3  ...   \n",
       "\n",
       "   inflight_service_satisfaction_rating  cleanliness_satisfaction_rating  \\\n",
       "0                                     4                                3   \n",
       "1                                     3                                2   \n",
       "\n",
       "   departure_delay_in_minutes  arrival_delay_in_minutes  \\\n",
       "0                           0                       0.0   \n",
       "1                           0                       0.0   \n",
       "\n",
       "   satisfaction_target_Satisfied  customer_gender_Male  \\\n",
       "0                              1                     1   \n",
       "1                              1                     1   \n",
       "\n",
       "   customer_loyalty_type_Loyal  customer_travel_type_Personal  \\\n",
       "0                            0                              1   \n",
       "1                            0                              1   \n",
       "\n",
       "   customer_class_type_Economy  customer_class_type_Economy Plus  \n",
       "0                            1                                 0  \n",
       "1                            1                                 0  \n",
       "\n",
       "[2 rows x 25 columns]"
      ]
     },
     "execution_count": 2,
     "metadata": {},
     "output_type": "execute_result"
    }
   ],
   "source": [
    "df = pd.read_csv('../data/very_train_cleaned_airlines.csv')\n",
    "df.head(2)\n"
   ]
  },
  {
   "cell_type": "code",
   "execution_count": 3,
   "id": "84e91889",
   "metadata": {},
   "outputs": [],
   "source": [
    "df = df.drop('Unnamed: 0', axis=1)\n",
    "df = df.drop('arrival_delay_in_minutes', axis=1)"
   ]
  },
  {
   "cell_type": "code",
   "execution_count": 4,
   "id": "77184c07",
   "metadata": {
    "scrolled": true
   },
   "outputs": [
    {
     "name": "stdout",
     "output_type": "stream",
     "text": [
      "<class 'pandas.core.frame.DataFrame'>\n",
      "RangeIndex: 129880 entries, 0 to 129879\n",
      "Data columns (total 23 columns):\n",
      " #   Column                                      Non-Null Count   Dtype\n",
      "---  ------                                      --------------   -----\n",
      " 0   customer_age                                129880 non-null  int64\n",
      " 1   flight_distance                             129880 non-null  int64\n",
      " 2   flight_wifi_satisfaction_rating             129880 non-null  int64\n",
      " 3   departure/arrival_time_satisfaction_rating  129880 non-null  int64\n",
      " 4   online_booking_satisfaction_rating          129880 non-null  int64\n",
      " 5   gate_location_satisfaction_rating           129880 non-null  int64\n",
      " 6   food/drink_satisfaction_rating              129880 non-null  int64\n",
      " 7   online_boarding_satisfaction_rating         129880 non-null  int64\n",
      " 8   seat_comfort_satisfaction_rating            129880 non-null  int64\n",
      " 9   inflight_entertainment_satisfaction_rating  129880 non-null  int64\n",
      " 10  onboard_service_satisfaction_rating         129880 non-null  int64\n",
      " 11  leg_room_satisfaction_rating                129880 non-null  int64\n",
      " 12  baggage_handling_satisfaction_rating        129880 non-null  int64\n",
      " 13  checkin_service_satisfaction_rating         129880 non-null  int64\n",
      " 14  inflight_service_satisfaction_rating        129880 non-null  int64\n",
      " 15  cleanliness_satisfaction_rating             129880 non-null  int64\n",
      " 16  departure_delay_in_minutes                  129880 non-null  int64\n",
      " 17  satisfaction_target_Satisfied               129880 non-null  int64\n",
      " 18  customer_gender_Male                        129880 non-null  int64\n",
      " 19  customer_loyalty_type_Loyal                 129880 non-null  int64\n",
      " 20  customer_travel_type_Personal               129880 non-null  int64\n",
      " 21  customer_class_type_Economy                 129880 non-null  int64\n",
      " 22  customer_class_type_Economy Plus            129880 non-null  int64\n",
      "dtypes: int64(23)\n",
      "memory usage: 22.8 MB\n"
     ]
    }
   ],
   "source": [
    "df.info()"
   ]
  },
  {
   "cell_type": "code",
   "execution_count": 5,
   "id": "fa4a2b80",
   "metadata": {},
   "outputs": [
    {
     "data": {
      "text/plain": [
       "customer_age                                  0.0\n",
       "flight_distance                               0.0\n",
       "flight_wifi_satisfaction_rating               0.0\n",
       "departure/arrival_time_satisfaction_rating    0.0\n",
       "online_booking_satisfaction_rating            0.0\n",
       "gate_location_satisfaction_rating             0.0\n",
       "food/drink_satisfaction_rating                0.0\n",
       "online_boarding_satisfaction_rating           0.0\n",
       "seat_comfort_satisfaction_rating              0.0\n",
       "inflight_entertainment_satisfaction_rating    0.0\n",
       "onboard_service_satisfaction_rating           0.0\n",
       "leg_room_satisfaction_rating                  0.0\n",
       "baggage_handling_satisfaction_rating          0.0\n",
       "checkin_service_satisfaction_rating           0.0\n",
       "inflight_service_satisfaction_rating          0.0\n",
       "cleanliness_satisfaction_rating               0.0\n",
       "departure_delay_in_minutes                    0.0\n",
       "satisfaction_target_Satisfied                 0.0\n",
       "customer_gender_Male                          0.0\n",
       "customer_loyalty_type_Loyal                   0.0\n",
       "customer_travel_type_Personal                 0.0\n",
       "customer_class_type_Economy                   0.0\n",
       "customer_class_type_Economy Plus              0.0\n",
       "dtype: float64"
      ]
     },
     "execution_count": 5,
     "metadata": {},
     "output_type": "execute_result"
    }
   ],
   "source": [
    "# Below I am identifying the % of null values in each column\n",
    "df.isnull().sum()/len(df)"
   ]
  },
  {
   "cell_type": "code",
   "execution_count": 6,
   "id": "66fee418",
   "metadata": {},
   "outputs": [],
   "source": [
    "# Below I am setting our train dataset target y to 'rating'\n",
    "y = df['satisfaction_target_Satisfied']\n",
    "\n",
    "# Below I am setting our train dataset data to every column besides 'rating'\n",
    "X = df.drop('satisfaction_target_Satisfied', axis = 1)"
   ]
  },
  {
   "cell_type": "code",
   "execution_count": 8,
   "id": "dd483b8b",
   "metadata": {},
   "outputs": [],
   "source": [
    "from tempfile import mkdtemp\n",
    "from sklearn.model_selection import GridSearchCV"
   ]
  },
  {
   "cell_type": "code",
   "execution_count": 9,
   "id": "4353641d",
   "metadata": {},
   "outputs": [],
   "source": [
    "estimators = [('normalise', StandardScaler()),\n",
    "              ('reduce_dim', PCA()),\n",
    "              ('svm', svm.SVC())]"
   ]
  },
  {
   "cell_type": "code",
   "execution_count": 11,
   "id": "e22e88bb",
   "metadata": {},
   "outputs": [],
   "source": [
    "cachedir = mkdtemp()\n",
    "pipe = Pipeline(estimators, memory = cachedir)"
   ]
  },
  {
   "cell_type": "code",
   "execution_count": 12,
   "id": "e2461179",
   "metadata": {},
   "outputs": [],
   "source": [
    "params = {'svm__kernel': ['linear','rbf'], \n",
    "          'reduce_dim__n_components': [None, 2, 5, 10]}"
   ]
  },
  {
   "cell_type": "code",
   "execution_count": 13,
   "id": "e405d1c5",
   "metadata": {},
   "outputs": [],
   "source": [
    "grid_search = GridSearchCV(pipe, param_grid=params)"
   ]
  },
  {
   "cell_type": "code",
   "execution_count": 14,
   "id": "c083ea71",
   "metadata": {},
   "outputs": [],
   "source": [
    "X_train, X_test, y_train, y_test = train_test_split(\n",
    "X, y, test_size=0.3, random_state=0)"
   ]
  },
  {
   "cell_type": "code",
   "execution_count": null,
   "id": "b2eb1ae8",
   "metadata": {},
   "outputs": [],
   "source": [
    "fitted_search = grid_search.fit(X_train, y_train)"
   ]
  },
  {
   "cell_type": "code",
   "execution_count": null,
   "id": "843eb436",
   "metadata": {},
   "outputs": [],
   "source": [
    "from tempfile import mkdtemp\n",
    "from sklearn.model_selection import GridSearchCV\n",
    "cachedir = mkdtemp()\n",
    "\n",
    "\n",
    "estimators = [('normalise', StandardScaler()),\n",
    "              ('reduce_dim', PCA()),\n",
    "              ('svm', svm.SVC())]\n",
    "\n",
    "pipe = Pipeline(estimators, memory = cachedir)\n",
    "\n",
    "params = {'svm__kernel': ['linear','rbf'], \n",
    "          'reduce_dim__n_components': [None, 2, 5, 10]}\n",
    "\n",
    "grid_search = GridSearchCV(pipe, param_grid=params)\n",
    "\n",
    "X_train, X_test, y_train, y_test = train_test_split(\n",
    "X, y, test_size=0.3, random_state=0)\n",
    "\n",
    "    \n",
    "fitted_search = grid_search.fit(X_train, y_train)"
   ]
  }
 ],
 "metadata": {
  "kernelspec": {
   "display_name": "Python 3 (ipykernel)",
   "language": "python",
   "name": "python3"
  },
  "language_info": {
   "codemirror_mode": {
    "name": "ipython",
    "version": 3
   },
   "file_extension": ".py",
   "mimetype": "text/x-python",
   "name": "python",
   "nbconvert_exporter": "python",
   "pygments_lexer": "ipython3",
   "version": "3.9.12"
  }
 },
 "nbformat": 4,
 "nbformat_minor": 5
}
