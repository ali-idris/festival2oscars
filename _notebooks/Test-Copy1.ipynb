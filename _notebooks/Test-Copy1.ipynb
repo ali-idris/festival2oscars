{
 "cells": [
  {
   "cell_type": "code",
   "execution_count": 16,
   "id": "93c95aa2",
   "metadata": {},
   "outputs": [],
   "source": [
    "import numpy as np\n",
    "import pandas as pd\n",
    "import matplotlib.pyplot as plt\n",
    "%matplotlib inline\n",
    "\n",
    "# Filter warnings\n",
    "import warnings\n",
    "warnings.filterwarnings('ignore')\n",
    "\n",
    "from sklearn.model_selection import train_test_split\n",
    "from sklearn.preprocessing import StandardScaler\n",
    "from sklearn.decomposition import PCA\n",
    "from sklearn import svm\n",
    "from sklearn.pipeline import Pipeline"
   ]
  },
  {
   "cell_type": "code",
   "execution_count": 17,
   "id": "87968de3",
   "metadata": {},
   "outputs": [
    {
     "data": {
      "text/html": [
       "<div>\n",
       "<style scoped>\n",
       "    .dataframe tbody tr th:only-of-type {\n",
       "        vertical-align: middle;\n",
       "    }\n",
       "\n",
       "    .dataframe tbody tr th {\n",
       "        vertical-align: top;\n",
       "    }\n",
       "\n",
       "    .dataframe thead th {\n",
       "        text-align: right;\n",
       "    }\n",
       "</style>\n",
       "<table border=\"1\" class=\"dataframe\">\n",
       "  <thead>\n",
       "    <tr style=\"text-align: right;\">\n",
       "      <th></th>\n",
       "      <th>Unnamed: 0</th>\n",
       "      <th>customer_age</th>\n",
       "      <th>flight_distance</th>\n",
       "      <th>flight_wifi_satisfaction_rating</th>\n",
       "      <th>departure/arrival_time_satisfaction_rating</th>\n",
       "      <th>online_booking_satisfaction_rating</th>\n",
       "      <th>gate_location_satisfaction_rating</th>\n",
       "      <th>food/drink_satisfaction_rating</th>\n",
       "      <th>online_boarding_satisfaction_rating</th>\n",
       "      <th>seat_comfort_satisfaction_rating</th>\n",
       "      <th>...</th>\n",
       "      <th>inflight_service_satisfaction_rating</th>\n",
       "      <th>cleanliness_satisfaction_rating</th>\n",
       "      <th>departure_delay_in_minutes</th>\n",
       "      <th>arrival_delay_in_minutes</th>\n",
       "      <th>satisfaction_target_Satisfied</th>\n",
       "      <th>customer_gender_Male</th>\n",
       "      <th>customer_loyalty_type_Loyal</th>\n",
       "      <th>customer_travel_type_Personal</th>\n",
       "      <th>customer_class_type_Economy</th>\n",
       "      <th>customer_class_type_Economy Plus</th>\n",
       "    </tr>\n",
       "  </thead>\n",
       "  <tbody>\n",
       "    <tr>\n",
       "      <th>0</th>\n",
       "      <td>0</td>\n",
       "      <td>56</td>\n",
       "      <td>369</td>\n",
       "      <td>0</td>\n",
       "      <td>2</td>\n",
       "      <td>0</td>\n",
       "      <td>4</td>\n",
       "      <td>3</td>\n",
       "      <td>0</td>\n",
       "      <td>3</td>\n",
       "      <td>...</td>\n",
       "      <td>4</td>\n",
       "      <td>3</td>\n",
       "      <td>0</td>\n",
       "      <td>0.0</td>\n",
       "      <td>1</td>\n",
       "      <td>1</td>\n",
       "      <td>0</td>\n",
       "      <td>1</td>\n",
       "      <td>1</td>\n",
       "      <td>0</td>\n",
       "    </tr>\n",
       "    <tr>\n",
       "      <th>1</th>\n",
       "      <td>1</td>\n",
       "      <td>49</td>\n",
       "      <td>2486</td>\n",
       "      <td>0</td>\n",
       "      <td>2</td>\n",
       "      <td>1</td>\n",
       "      <td>4</td>\n",
       "      <td>2</td>\n",
       "      <td>1</td>\n",
       "      <td>3</td>\n",
       "      <td>...</td>\n",
       "      <td>3</td>\n",
       "      <td>2</td>\n",
       "      <td>0</td>\n",
       "      <td>0.0</td>\n",
       "      <td>1</td>\n",
       "      <td>1</td>\n",
       "      <td>0</td>\n",
       "      <td>1</td>\n",
       "      <td>1</td>\n",
       "      <td>0</td>\n",
       "    </tr>\n",
       "  </tbody>\n",
       "</table>\n",
       "<p>2 rows × 25 columns</p>\n",
       "</div>"
      ],
      "text/plain": [
       "   Unnamed: 0  customer_age  flight_distance  flight_wifi_satisfaction_rating  \\\n",
       "0           0            56              369                                0   \n",
       "1           1            49             2486                                0   \n",
       "\n",
       "   departure/arrival_time_satisfaction_rating  \\\n",
       "0                                           2   \n",
       "1                                           2   \n",
       "\n",
       "   online_booking_satisfaction_rating  gate_location_satisfaction_rating  \\\n",
       "0                                   0                                  4   \n",
       "1                                   1                                  4   \n",
       "\n",
       "   food/drink_satisfaction_rating  online_boarding_satisfaction_rating  \\\n",
       "0                               3                                    0   \n",
       "1                               2                                    1   \n",
       "\n",
       "   seat_comfort_satisfaction_rating  ...  \\\n",
       "0                                 3  ...   \n",
       "1                                 3  ...   \n",
       "\n",
       "   inflight_service_satisfaction_rating  cleanliness_satisfaction_rating  \\\n",
       "0                                     4                                3   \n",
       "1                                     3                                2   \n",
       "\n",
       "   departure_delay_in_minutes  arrival_delay_in_minutes  \\\n",
       "0                           0                       0.0   \n",
       "1                           0                       0.0   \n",
       "\n",
       "   satisfaction_target_Satisfied  customer_gender_Male  \\\n",
       "0                              1                     1   \n",
       "1                              1                     1   \n",
       "\n",
       "   customer_loyalty_type_Loyal  customer_travel_type_Personal  \\\n",
       "0                            0                              1   \n",
       "1                            0                              1   \n",
       "\n",
       "   customer_class_type_Economy  customer_class_type_Economy Plus  \n",
       "0                            1                                 0  \n",
       "1                            1                                 0  \n",
       "\n",
       "[2 rows x 25 columns]"
      ]
     },
     "execution_count": 17,
     "metadata": {},
     "output_type": "execute_result"
    }
   ],
   "source": [
    "df = pd.read_csv('../data/very_train_cleaned_airlines.csv')\n",
    "df.head(2)"
   ]
  },
  {
   "cell_type": "code",
   "execution_count": 18,
   "id": "ab26e9de",
   "metadata": {},
   "outputs": [],
   "source": [
    "df = df.drop('Unnamed: 0', axis=1)\n",
    "df = df.drop('arrival_delay_in_minutes', axis=1)"
   ]
  },
  {
   "cell_type": "markdown",
   "id": "c3d2da5b",
   "metadata": {},
   "source": [
    "## Use pipeline to find optimal model"
   ]
  },
  {
   "cell_type": "code",
   "execution_count": 30,
   "id": "286b55f1",
   "metadata": {},
   "outputs": [
    {
     "name": "stdout",
     "output_type": "stream",
     "text": [
      "The fitted search score is 0.8725233548916949\n",
      "The best parameters for the model are {'log__C': 3, 'reduce_dim__n_components': None}\n"
     ]
    }
   ],
   "source": [
    "import numpy as np\n",
    "import pandas as pd\n",
    "import matplotlib.pyplot as plt\n",
    "%matplotlib inline\n",
    "\n",
    "# Filter warnings\n",
    "import warnings\n",
    "warnings.filterwarnings('ignore')\n",
    "\n",
    "from sklearn.model_selection import train_test_split\n",
    "from sklearn.preprocessing import StandardScaler\n",
    "from sklearn.decomposition import PCA\n",
    "from sklearn import svm\n",
    "from sklearn.pipeline import Pipeline\n",
    "from tempfile import mkdtemp\n",
    "from sklearn.model_selection import GridSearchCV\n",
    "from sklearn.linear_model import LogisticRegression\n",
    "\n",
    "df = pd.read_csv('../data/very_train_cleaned_airlines.csv')\n",
    "df = df.drop('Unnamed: 0', axis=1)\n",
    "df = df.drop('arrival_delay_in_minutes', axis=1)\n",
    "\n",
    "# Below I am setting our train dataset target y to 'rating'\n",
    "y = df['satisfaction_target_Satisfied']\n",
    "\n",
    "# Below I am setting our train dataset data to every column besides 'rating'\n",
    "X = df.drop('satisfaction_target_Satisfied', axis = 1)\n",
    "\n",
    "estimators = [('normalise', StandardScaler()),\n",
    "              ('reduce_dim', PCA()),\n",
    "              ('log', LogisticRegression())]\n",
    "\n",
    "cachedir = mkdtemp()\n",
    "pipe = Pipeline(estimators, memory = cachedir)\n",
    "\n",
    "params = {'log__C': [0.1, 1, 3, 5, 7, 10], \n",
    "          'reduce_dim__n_components': [None, 2, 5, 10]}\n",
    "\n",
    "grid_search = GridSearchCV(pipe, param_grid=params)\n",
    "\n",
    "X_train, X_test, y_train, y_test = train_test_split(\n",
    "X, y, test_size=0.3, random_state=0)\n",
    "\n",
    "fitted_search = grid_search.fit(X_train, y_train)\n",
    "\n",
    "print(f\"The fitted search score is {fitted_search.score(X_test, y_test)}\")\n",
    "print(f\"The best parameters for the model are {fitted_search.best_params_}\")"
   ]
  },
  {
   "cell_type": "code",
   "execution_count": 19,
   "id": "35a637fc",
   "metadata": {},
   "outputs": [],
   "source": [
    "# Below I am setting our train dataset target y to 'rating'\n",
    "y = df['satisfaction_target_Satisfied']\n",
    "\n",
    "# Below I am setting our train dataset data to every column besides 'rating'\n",
    "X = df.drop('satisfaction_target_Satisfied', axis = 1)"
   ]
  },
  {
   "cell_type": "code",
   "execution_count": 20,
   "id": "4b04bf96",
   "metadata": {},
   "outputs": [],
   "source": [
    "from tempfile import mkdtemp\n",
    "from sklearn.model_selection import GridSearchCV\n",
    "from sklearn.linear_model import LogisticRegression"
   ]
  },
  {
   "cell_type": "code",
   "execution_count": 21,
   "id": "20f724e6",
   "metadata": {},
   "outputs": [],
   "source": [
    "estimators = [('normalise', StandardScaler()),\n",
    "              ('reduce_dim', PCA()),\n",
    "              ('log', LogisticRegression())]"
   ]
  },
  {
   "cell_type": "code",
   "execution_count": 22,
   "id": "14c139a0",
   "metadata": {},
   "outputs": [],
   "source": [
    "cachedir = mkdtemp()\n",
    "pipe = Pipeline(estimators, memory = cachedir)"
   ]
  },
  {
   "cell_type": "code",
   "execution_count": 24,
   "id": "e5d814fb",
   "metadata": {},
   "outputs": [],
   "source": [
    "params = {'log__C': [0.1, 1, 3, 5, 7, 10], \n",
    "          'reduce_dim__n_components': [None, 2, 5, 10]}"
   ]
  },
  {
   "cell_type": "code",
   "execution_count": 25,
   "id": "3bfdb159",
   "metadata": {},
   "outputs": [],
   "source": [
    "grid_search = GridSearchCV(pipe, param_grid=params)"
   ]
  },
  {
   "cell_type": "code",
   "execution_count": 26,
   "id": "6544d2f7",
   "metadata": {},
   "outputs": [],
   "source": [
    "X_train, X_test, y_train, y_test = train_test_split(\n",
    "X, y, test_size=0.3, random_state=0)"
   ]
  },
  {
   "cell_type": "code",
   "execution_count": 27,
   "id": "0e57e784",
   "metadata": {},
   "outputs": [],
   "source": [
    "fitted_search = grid_search.fit(X_train, y_train)"
   ]
  },
  {
   "cell_type": "code",
   "execution_count": 28,
   "id": "e4842647",
   "metadata": {},
   "outputs": [
    {
     "data": {
      "text/plain": [
       "0.8725233548916949"
      ]
     },
     "execution_count": 28,
     "metadata": {},
     "output_type": "execute_result"
    }
   ],
   "source": [
    "fitted_search.score(X_test, y_test)"
   ]
  },
  {
   "cell_type": "code",
   "execution_count": 29,
   "id": "97b27cf1",
   "metadata": {},
   "outputs": [
    {
     "data": {
      "text/plain": [
       "{'log__C': 3, 'reduce_dim__n_components': None}"
      ]
     },
     "execution_count": 29,
     "metadata": {},
     "output_type": "execute_result"
    }
   ],
   "source": [
    "fitted_search.best_params_"
   ]
  },
  {
   "cell_type": "markdown",
   "id": "2b0c2569",
   "metadata": {},
   "source": [
    "***"
   ]
  },
  {
   "cell_type": "markdown",
   "id": "87c997e9",
   "metadata": {},
   "source": [
    "## Run code seperately"
   ]
  }
 ],
 "metadata": {
  "kernelspec": {
   "display_name": "Python 3 (ipykernel)",
   "language": "python",
   "name": "python3"
  },
  "language_info": {
   "codemirror_mode": {
    "name": "ipython",
    "version": 3
   },
   "file_extension": ".py",
   "mimetype": "text/x-python",
   "name": "python",
   "nbconvert_exporter": "python",
   "pygments_lexer": "ipython3",
   "version": "3.9.12"
  }
 },
 "nbformat": 4,
 "nbformat_minor": 5
}
